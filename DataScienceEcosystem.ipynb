{
 "cells": [
  {
   "cell_type": "markdown",
   "id": "3f50a2db-821c-4470-96cd-429fae8b662a",
   "metadata": {},
   "source": [
    "# Data Science Tools and Ecosystem\n"
   ]
  },
  {
   "cell_type": "markdown",
   "id": "b48dfc3e-e780-4e3d-81d1-b3f792badeab",
   "metadata": {},
   "source": [
    "# In this Notebook, Data Science Tools and Ecosystems are summarized"
   ]
  },
  {
   "cell_type": "markdown",
   "id": "52dc1181-4838-4038-ac09-fe75537fad68",
   "metadata": {},
   "source": [
    "# Some of the key takeaways from the course\n",
    "## **Objectives**\n",
    "### Some of the popular Languages that Data Scientists use are:\n",
    "- **R**\n",
    "- **Python**\n",
    "- **SQL**\n",
    " ### Some of the commonly used libraries by Data Scientists include:\n",
    "1. Numpy\n",
    "2. Pandas\n",
    "3. Matplotlib\n",
    "4. seaborn\n",
    " | Data Science Tools |\n",
    " |--------------------|\n",
    " |Jupyter Notebook |\n",
    " |RStudio | \n",
    " |Apache zepplin|"
   ]
  },
  {
   "cell_type": "markdown",
   "id": "023d83a0-a997-42b1-ac22-6318e577ae11",
   "metadata": {},
   "source": [
    "### Below are a few examples of evaluating arithmetic expressions in Python"
   ]
  },
  {
   "cell_type": "code",
   "execution_count": 2,
   "id": "32eed646-9486-4b0e-ae5d-fd74aeedf9d1",
   "metadata": {},
   "outputs": [
    {
     "data": {
      "text/plain": [
       "17"
      ]
     },
     "execution_count": 2,
     "metadata": {},
     "output_type": "execute_result"
    }
   ],
   "source": [
    "(3*4)+5\n",
    "#this is a simple arithmetic expression to multiply then add integers"
   ]
  },
  {
   "cell_type": "code",
   "execution_count": 3,
   "id": "83aa1855-4649-40b4-bf34-ddbde40d3dbf",
   "metadata": {},
   "outputs": [
    {
     "data": {
      "text/plain": [
       "3.3333333333333335"
      ]
     },
     "execution_count": 3,
     "metadata": {},
     "output_type": "execute_result"
    }
   ],
   "source": [
    "200/60\n"
   ]
  },
  {
   "cell_type": "markdown",
   "id": "200e1ecd-05bc-438e-afac-7785c4d6e779",
   "metadata": {},
   "source": [
    "### Authors Name: Ahmed Mohamed Badawy"
   ]
  },
  {
   "cell_type": "code",
   "execution_count": null,
   "id": "20d7048d-17a0-417b-aceb-5e314b82c6c8",
   "metadata": {},
   "outputs": [],
   "source": []
  }
 ],
 "metadata": {
  "kernelspec": {
   "display_name": "Python 3 (ipykernel)",
   "language": "python",
   "name": "python3"
  },
  "language_info": {
   "codemirror_mode": {
    "name": "ipython",
    "version": 3
   },
   "file_extension": ".py",
   "mimetype": "text/x-python",
   "name": "python",
   "nbconvert_exporter": "python",
   "pygments_lexer": "ipython3",
   "version": "3.13.5"
  }
 },
 "nbformat": 4,
 "nbformat_minor": 5
}
